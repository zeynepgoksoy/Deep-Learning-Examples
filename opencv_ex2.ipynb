{
 "cells": [
  {
   "cell_type": "code",
   "execution_count": 2,
   "id": "4001c1f5",
   "metadata": {},
   "outputs": [],
   "source": [
    "import cv2\n",
    "import numpy as np\n",
    "import os\n",
    "from tensorflow import keras\n",
    "from keras.utils import np_utils"
   ]
  },
  {
   "cell_type": "code",
   "execution_count": 3,
   "id": "5d08166e",
   "metadata": {},
   "outputs": [
    {
     "name": "stdout",
     "output_type": "stream",
     "text": [
      "3\n",
      "840\n",
      "840\n",
      "840\n"
     ]
    }
   ],
   "source": [
    "base_dir = \"/Users/Ap/Desktop/rps-datasets\"\n",
    "\n",
    "train_dir = os.path.join(base_dir,'rps')\n",
    "\n",
    "paper_dir = os.path.join(train_dir,'paper')\n",
    "rock_dir = os.path.join(train_dir,'rock')\n",
    "scissors_dir = os.path.join(train_dir, 'scissors')\n",
    "\n",
    "paper_imgs = os.listdir(paper_dir)\n",
    "rock_imgs = os.listdir(rock_dir)\n",
    "scissors_imgs = os.listdir(scissors_dir)\n",
    "\n",
    "num_of_labels = len(os.listdir(train_dir))\n",
    "num_of_paper_imgs = len(os.listdir(paper_dir))\n",
    "num_of_rock_imgs = len(os.listdir(rock_dir))\n",
    "num_of_sciss_imgs = len(os.listdir(scissors_dir))\n",
    "\n",
    "print(num_of_labels)\n",
    "print(num_of_paper_imgs)\n",
    "print(num_of_rock_imgs)\n",
    "print(num_of_sciss_imgs)\n"
   ]
  },
  {
   "cell_type": "code",
   "execution_count": null,
   "id": "40f8f1d9",
   "metadata": {},
   "outputs": [],
   "source": [
    "list_paper = []\n",
    "list_rock =[]\n",
    "list_scissors = []\n",
    "\n",
    "number_samples = num_of_paper_imgs + num_of_rock_imgs + num_of_sciss_imgs\n",
    "labels = np.ones((number_samples,),dtype=\"int\")"
   ]
  },
  {
   "cell_type": "code",
   "execution_count": null,
   "id": "8f271217",
   "metadata": {},
   "outputs": [],
   "source": [
    "for img in paper_imgs:\n",
    "    imgPath = os.path.join(paper_dir,img)  #print(imgPath)\n",
    "    image=cv2.imread(imgPath)    \n",
    "    image =cv2.cvtColor(image,cv2.COLOR_BGR2RGB) #print(type(image))\n",
    "    image = image/255 #normalization\n",
    "    list_paper.append(image)\n",
    "    #imgvf=cv2.flip(image,flipCode=0) #flip image vertically\n",
    "    #list_paper.append(imgvf)\n",
    "    \n",
    "np_arr_paper = np.array(list_paper)\n",
    "#print(np_arr)\n",
    "#print(np_arr.shape)"
   ]
  },
  {
   "cell_type": "code",
   "execution_count": null,
   "id": "d2ddc66e",
   "metadata": {},
   "outputs": [],
   "source": [
    "for img in rock_imgs:\n",
    "    imgPath = os.path.join(rock_dir,img)\n",
    "    image = cv2.imread(imgPath)\n",
    "    image = cv2.cvtColor(image,cv2.COLOR_BGR2RGB)\n",
    "    image = image/255\n",
    "    list_rock.append(image)\n",
    "    #imgvf = cv2.flip(image,flipCode=0)\n",
    "    #list_rock.append(imgvf)\n",
    "    \n",
    "np_arr_rock = np.array(list_rock)"
   ]
  },
  {
   "cell_type": "code",
   "execution_count": null,
   "id": "8bfcb44f",
   "metadata": {},
   "outputs": [],
   "source": [
    "for img in scissors_imgs:\n",
    "    imgPath = os.path.join(scissors_dir,img)\n",
    "    image = cv2.imread(imgPath)\n",
    "    image = cv2.cvtColor(image,cv2.COLOR_BGR2RGB)\n",
    "    image = image/255\n",
    "    list_scissors.append(image)\n",
    "    #imgvf = cv2.flip(image,flipCode=0)\n",
    "    #list_scissors.append(imgvf)\n",
    "    \n",
    "np_arr_scissors = np.array(list_scissors)"
   ]
  },
  {
   "cell_type": "code",
   "execution_count": null,
   "id": "5780979e-7437-4f24-a832-1c5c2914f679",
   "metadata": {},
   "outputs": [],
   "source": [
    "#paper = 0, rock=1, scissors=2\n",
    "num1 = num_of_paper_imgs\n",
    "num2 = num_of_paper_imgs+num_of_rock_imgs\n",
    "num3 = number_samples\n",
    "\n",
    "labels[0:num1] = 0\n",
    "labels[num1 : num2] = 1\n",
    "labels[num2 : num3] = 2\n",
    "\n",
    "print(labels)"
   ]
  }
 ],
 "metadata": {
  "kernelspec": {
   "display_name": "Python 3 (ipykernel)",
   "language": "python",
   "name": "python3"
  },
  "language_info": {
   "codemirror_mode": {
    "name": "ipython",
    "version": 3
   },
   "file_extension": ".py",
   "mimetype": "text/x-python",
   "name": "python",
   "nbconvert_exporter": "python",
   "pygments_lexer": "ipython3",
   "version": "3.9.12"
  }
 },
 "nbformat": 4,
 "nbformat_minor": 5
}
